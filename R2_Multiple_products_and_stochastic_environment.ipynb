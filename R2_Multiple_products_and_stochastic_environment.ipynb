{
  "cells": [
    {
      "cell_type": "code",
      "execution_count": 1,
      "metadata": {
        "id": "1B60HUCmgcRB"
      },
      "outputs": [],
      "source": [
        "import numpy as np\n",
        "import matplotlib.pyplot as plt\n",
        "from scipy import optimize\n",
        "from scipy.stats import norm"
      ]
    },
    {
      "cell_type": "code",
      "execution_count": 2,
      "metadata": {
        "id": "1K97ZjZzhUpZ"
      },
      "outputs": [],
      "source": [
        "class Buyer:\n",
        "  def __init__(self, mu, sigma):\n",
        "    \"\"\"\n",
        "    Buyer using a multivariate normal distribution for valuations.\n",
        "    :param mu: Mean vector (list or 1D numpy array)\n",
        "    :param sigma: Covariance matrix (2D numpy array)\n",
        "    \"\"\"\n",
        "    self.mu = np.array(mu)\n",
        "    self.sigma = np.array(sigma)\n",
        "    self.dimension = self.mu.shape[0]\n",
        "\n",
        "    # Validate that the covariance matrix is square and matches the mean vector\n",
        "    if self.sigma.shape != (self.dimension, self.dimension):\n",
        "      raise ValueError(\"Covariance matrix shape must match (len(mu), len(mu))\")\n",
        "\n",
        "  def round(self, prices):\n",
        "    \"\"\"\n",
        "    Simulates a round where the buyer evaluates multiple prices.\n",
        "    :param prices: List or array of offered prices (must match dimension)\n",
        "    :return: Binary array indicating purchases (1 = buy, 0 = no buy)\n",
        "    \"\"\"\n",
        "    valuations = np.random.multivariate_normal(self.mu, self.sigma)\n",
        "    prices = np.array(prices)\n",
        "\n",
        "    if len(prices) != self.dimension:\n",
        "      raise ValueError(\"Length of prices must match length of mean vector\")\n",
        "\n",
        "    return (valuations > prices).astype(int)"
      ]
    },
    {
      "cell_type": "code",
      "execution_count": 3,
      "metadata": {
        "colab": {
          "base_uri": "https://localhost:8080/"
        },
        "id": "418g9VMCiIsC",
        "outputId": "3e0a6129-3742-4942-c4b0-ee3db81a4669"
      },
      "outputs": [
        {
          "name": "stdout",
          "output_type": "stream",
          "text": [
            "Buy decisions: [1 1 1]\n"
          ]
        }
      ],
      "source": [
        "mu = [1.0, 0.8, 1.2]\n",
        "sigma = [\n",
        "    [0.1, 0.05, 0.02],\n",
        "    [0.05, 0.2, 0.03],\n",
        "    [0.02, 0.03, 0.15]\n",
        "]\n",
        "\n",
        "buyer = Buyer(mu, sigma)\n",
        "prices = [0.9, 0.7, 1.1]\n",
        "response = buyer.round(prices)\n",
        "print(\"Buy decisions:\", response)"
      ]
    },
    {
      "cell_type": "code",
      "execution_count": 4,
      "metadata": {
        "id": "VL5WqeJ3iRLU"
      },
      "outputs": [],
      "source": [
        "def compute_best_price(prices, rho, buyer, num_samples=10000):\n",
        "  \"\"\"\n",
        "  Compute optimal randomized pricing strategy using vectorized buyer simulations.\n",
        "\n",
        "  Parameters:\n",
        "  - prices: list of possible prices\n",
        "  - rho: maximum expected units sold (capacity constraint)\n",
        "  - buyer: Buyer object (with multivariate normal valuation)\n",
        "  - num_samples: number of samples to estimate win probabilities\n",
        "\n",
        "  Returns:\n",
        "  - gamma: optimal price distribution\n",
        "  - expected_revenue: expected revenue under strategy\n",
        "  - expected_units_sold: expected units sold under strategy\n",
        "  \"\"\"\n",
        "  prices = np.array(prices)\n",
        "  num_prices = len(prices)\n",
        "\n",
        "  # Generate all valuations at once using vectorized sampling\n",
        "  valuations = np.random.multivariate_normal(buyer.mu, buyer.sigma, size=num_samples)\n",
        "\n",
        "  # Compute win probabilities: fraction of times valuation exceeds price\n",
        "  win_probabilities = np.mean(valuations > prices, axis=0)\n",
        "\n",
        "  # Linear programming setup\n",
        "  c = -(prices * win_probabilities)  # Negate for minimization\n",
        "\n",
        "  A_ub = [win_probabilities]  # Expected units sold <= rho\n",
        "  b_ub = [rho]\n",
        "\n",
        "  A_eq = [np.ones(num_prices)]  # gamma is a probability distribution\n",
        "  b_eq = [1]\n",
        "\n",
        "  bounds = [(0, 1)] * num_prices\n",
        "\n",
        "  res = optimize.linprog(c, A_ub=A_ub, b_ub=b_ub,\n",
        "                          A_eq=A_eq, b_eq=b_eq,\n",
        "                          bounds=bounds, method='highs')\n",
        "\n",
        "  gamma = res.x\n",
        "  expected_revenue = -res.fun\n",
        "  expected_units_sold = np.sum(gamma * win_probabilities)\n",
        "\n",
        "  return gamma, expected_revenue, expected_units_sold"
      ]
    },
    {
      "cell_type": "code",
      "execution_count": 5,
      "metadata": {
        "colab": {
          "base_uri": "https://localhost:8080/"
        },
        "id": "J722FiuPky-v",
        "outputId": "61930641-9c89-46b9-fe7f-d562ad5e15dc"
      },
      "outputs": [
        {
          "name": "stdout",
          "output_type": "stream",
          "text": [
            "Optimal price distribution (gamma): [0.         0.65747221 0.34252779]\n",
            "Expected revenue: 0.2535794153972828\n",
            "Expected units sold: 0.49999999999999994\n"
          ]
        }
      ],
      "source": [
        "mu = [1.0, 0.8, 0.2]\n",
        "sigma = [\n",
        "    [0.1, 0.05, 0.02],\n",
        "    [0.05, 0.2, 0.03],\n",
        "    [0.02, 0.03, 0.15]\n",
        "]\n",
        "\n",
        "buyer = Buyer(mu, sigma)\n",
        "prices = np.linspace(0, 1, 3)\n",
        "rho = 0.5  # Maximum expected units sold\n",
        "\n",
        "gamma, revenue, units = compute_best_price(prices, rho, buyer)\n",
        "\n",
        "print(\"Optimal price distribution (gamma):\", gamma)\n",
        "print(\"Expected revenue:\", revenue)\n",
        "print(\"Expected units sold:\", units)"
      ]
    },
    {
      "cell_type": "code",
      "execution_count": null,
      "metadata": {
        "id": "vi4q-nPSqbj-"
      },
      "outputs": [],
      "source": []
    }
  ],
  "metadata": {
    "colab": {
      "provenance": []
    },
    "kernelspec": {
      "display_name": "Python 3",
      "name": "python3"
    },
    "language_info": {
      "codemirror_mode": {
        "name": "ipython",
        "version": 3
      },
      "file_extension": ".py",
      "mimetype": "text/x-python",
      "name": "python",
      "nbconvert_exporter": "python",
      "pygments_lexer": "ipython3",
      "version": "3.13.2"
    }
  },
  "nbformat": 4,
  "nbformat_minor": 0
}
