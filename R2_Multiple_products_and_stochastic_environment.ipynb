{
  "nbformat": 4,
  "nbformat_minor": 0,
  "metadata": {
    "colab": {
      "provenance": []
    },
    "kernelspec": {
      "name": "python3",
      "display_name": "Python 3"
    },
    "language_info": {
      "name": "python"
    }
  },
  "cells": [
    {
      "cell_type": "code",
      "source": [
        "import numpy as np\n",
        "import matplotlib.pyplot as plt\n",
        "from scipy import optimize\n",
        "from scipy.stats import norm"
      ],
      "metadata": {
        "id": "1B60HUCmgcRB"
      },
      "execution_count": 26,
      "outputs": []
    },
    {
      "cell_type": "code",
      "source": [
        "class Buyer:\n",
        "  def __init__(self, mu, sigma):\n",
        "    \"\"\"\n",
        "    Buyer using a multivariate normal distribution for valuations.\n",
        "    :param mu: Mean vector (list or 1D numpy array)\n",
        "    :param sigma: Covariance matrix (2D numpy array)\n",
        "    \"\"\"\n",
        "    self.mu = np.array(mu)\n",
        "    self.sigma = np.array(sigma)\n",
        "    self.dimension = self.mu.shape[0]\n",
        "\n",
        "    # Validate that the covariance matrix is square and matches the mean vector\n",
        "    if self.sigma.shape != (self.dimension, self.dimension):\n",
        "      raise ValueError(\"Covariance matrix shape must match (len(mu), len(mu))\")\n",
        "\n",
        "  def round(self, prices):\n",
        "    \"\"\"\n",
        "    Simulates a round where the buyer evaluates multiple prices.\n",
        "    :param prices: List or array of offered prices (must match dimension)\n",
        "    :return: Binary array indicating purchases (1 = buy, 0 = no buy)\n",
        "    \"\"\"\n",
        "    valuations = np.random.multivariate_normal(self.mu, self.sigma)\n",
        "    prices = np.array(prices)\n",
        "\n",
        "    if len(prices) != self.dimension:\n",
        "      raise ValueError(\"Length of prices must match length of mean vector\")\n",
        "\n",
        "    return (valuations > prices).astype(int)"
      ],
      "metadata": {
        "id": "1K97ZjZzhUpZ"
      },
      "execution_count": 42,
      "outputs": []
    },
    {
      "cell_type": "code",
      "source": [
        "mu = [1.0, 0.8, 1.2]\n",
        "sigma = [\n",
        "    [0.1, 0.05, 0.02],\n",
        "    [0.05, 0.2, 0.03],\n",
        "    [0.02, 0.03, 0.15]\n",
        "]\n",
        "\n",
        "buyer = Buyer(mu, sigma)\n",
        "prices = [0.9, 0.7, 1.1]\n",
        "response = buyer.round(prices)\n",
        "print(\"Buy decisions:\", response)"
      ],
      "metadata": {
        "colab": {
          "base_uri": "https://localhost:8080/"
        },
        "id": "418g9VMCiIsC",
        "outputId": "3e0a6129-3742-4942-c4b0-ee3db81a4669"
      },
      "execution_count": 43,
      "outputs": [
        {
          "output_type": "stream",
          "name": "stdout",
          "text": [
            "Buy decisions: [1 0 0]\n"
          ]
        }
      ]
    },
    {
      "cell_type": "code",
      "source": [
        "def compute_best_price(prices, rho, buyer, num_samples=10000):\n",
        "  \"\"\"\n",
        "  Compute optimal randomized pricing strategy using vectorized buyer simulations.\n",
        "\n",
        "  Parameters:\n",
        "  - prices: list of possible prices\n",
        "  - rho: maximum expected units sold (capacity constraint)\n",
        "  - buyer: Buyer object (with multivariate normal valuation)\n",
        "  - num_samples: number of samples to estimate win probabilities\n",
        "\n",
        "  Returns:\n",
        "  - gamma: optimal price distribution\n",
        "  - expected_revenue: expected revenue under strategy\n",
        "  - expected_units_sold: expected units sold under strategy\n",
        "  \"\"\"\n",
        "  prices = np.array(prices)\n",
        "  num_prices = len(prices)\n",
        "\n",
        "  # Generate all valuations at once using vectorized sampling\n",
        "  valuations = np.random.multivariate_normal(buyer.mu, buyer.sigma, size=num_samples)\n",
        "\n",
        "  # Compute win probabilities: fraction of times valuation exceeds price\n",
        "  win_probabilities = np.mean(valuations > prices, axis=0)\n",
        "\n",
        "  # Linear programming setup\n",
        "  c = -(prices * win_probabilities)  # Negate for minimization\n",
        "\n",
        "  A_ub = [win_probabilities]  # Expected units sold <= rho\n",
        "  b_ub = [rho]\n",
        "\n",
        "  A_eq = [np.ones(num_prices)]  # gamma is a probability distribution\n",
        "  b_eq = [1]\n",
        "\n",
        "  bounds = [(0, 1)] * num_prices\n",
        "\n",
        "  res = optimize.linprog(c, A_ub=A_ub, b_ub=b_ub,\n",
        "                          A_eq=A_eq, b_eq=b_eq,\n",
        "                          bounds=bounds, method='highs')\n",
        "\n",
        "  gamma = res.x\n",
        "  expected_revenue = -res.fun\n",
        "  expected_units_sold = np.sum(gamma * win_probabilities)\n",
        "\n",
        "  return gamma, expected_revenue, expected_units_sold"
      ],
      "metadata": {
        "id": "VL5WqeJ3iRLU"
      },
      "execution_count": 44,
      "outputs": []
    },
    {
      "cell_type": "code",
      "source": [
        "mu = [1.0, 0.8, 0.2]\n",
        "sigma = [\n",
        "    [0.1, 0.05, 0.02],\n",
        "    [0.05, 0.2, 0.03],\n",
        "    [0.02, 0.03, 0.15]\n",
        "]\n",
        "\n",
        "buyer = Buyer(mu, sigma)\n",
        "prices = np.linspace(0, 1, 3)\n",
        "rho = 0.5  # Maximum expected units sold\n",
        "\n",
        "gamma, revenue, units = compute_best_price(prices, rho, buyer)\n",
        "\n",
        "print(\"Optimal price distribution (gamma):\", gamma)\n",
        "print(\"Expected revenue:\", revenue)\n",
        "print(\"Expected units sold:\", units)"
      ],
      "metadata": {
        "colab": {
          "base_uri": "https://localhost:8080/"
        },
        "id": "J722FiuPky-v",
        "outputId": "61930641-9c89-46b9-fe7f-d562ad5e15dc"
      },
      "execution_count": 49,
      "outputs": [
        {
          "output_type": "stream",
          "name": "stdout",
          "text": [
            "Optimal price distribution (gamma): [0.         0.65934971 0.34065029]\n",
            "Expected revenue: 0.25330430786116065\n",
            "Expected units sold: 0.5\n"
          ]
        }
      ]
    },
    {
      "cell_type": "code",
      "source": [],
      "metadata": {
        "id": "vi4q-nPSqbj-"
      },
      "execution_count": 46,
      "outputs": []
    }
  ]
}