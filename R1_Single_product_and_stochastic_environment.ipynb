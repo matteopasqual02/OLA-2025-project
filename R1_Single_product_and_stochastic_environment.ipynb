{
 "cells": [
  {
   "cell_type": "markdown",
   "id": "50db1658",
   "metadata": {},
   "source": [
    "# R1: **Single product and stochastic environment**"
   ]
  },
  {
   "cell_type": "markdown",
   "id": "5ea68cd7",
   "metadata": {},
   "source": []
  }
 ],
 "metadata": {
  "language_info": {
   "name": "python"
  }
 },
 "nbformat": 4,
 "nbformat_minor": 5
}
