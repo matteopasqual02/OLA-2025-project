{
 "cells": [
  {
   "cell_type": "markdown",
   "id": "ce7205e3",
   "metadata": {},
   "source": [
    "# R1: **Single product and stochastic environment**"
   ]
  },
  {
   "cell_type": "markdown",
   "id": "23fde2d8",
   "metadata": {},
   "source": [
    "ADVERTISER: Company\n",
    "----\n",
    "\n",
    "single ptoduct"
   ]
  },
  {
   "cell_type": "code",
   "execution_count": null,
   "id": "dc94b4ee",
   "metadata": {},
   "outputs": [],
   "source": [
    "class Company_R1:\n",
    "    def __init__(self, T, M, P):\n",
    "        self.T = T  # Number of rounds\n",
    "        self.N = 1  # one product \n",
    "        self.M = M  # Set of possible prices (LIST discrete set)\n",
    "        self.P = P  # Production capacity budget (INT)\n",
    "\n",
    "        self.products = P   # ONE product = all capacity in one product\n",
    "        self.prices = None  # Prices for the product\n",
    "\n",
    "    def sell_products(self):\n",
    "        # sell one product\n",
    "        if self.products > 0:\n",
    "            print(f\"Products sold, Remained {self.products}\")\n",
    "            self.products -= 1\n",
    "        else:\n",
    "            print(\"No products to sell\")\n",
    "\n",
    "    def set_prices(self):   \n",
    "        # implement the logic to set prices UCB1\n",
    "        pass"
   ]
  },
  {
   "cell_type": "markdown",
   "id": "6e72a2cc",
   "metadata": {},
   "source": [
    "### BUYER: User"
   ]
  },
  {
   "cell_type": "code",
   "execution_count": null,
   "id": "328db700",
   "metadata": {},
   "outputs": [],
   "source": [
    "class User:\n",
    "    def __init__(self, valuation):\n",
    "        self.valuation = valuation  # Valuation of the product\n",
    "\n",
    "    def buy_product(self, price, quantity):\n",
    "        if self.valuation >= price and quantity > 0:\n",
    "            print(f\"Product bought at price {price}\")\n",
    "            return True"
   ]
  },
  {
   "cell_type": "markdown",
   "id": "a70d4259",
   "metadata": {},
   "source": [
    "### INTERACTION"
   ]
  },
  {
   "cell_type": "code",
   "execution_count": null,
   "id": "52d8bbf6",
   "metadata": {},
   "outputs": [],
   "source": []
  }
 ],
 "metadata": {
  "language_info": {
   "name": "python"
  }
 },
 "nbformat": 4,
 "nbformat_minor": 5
}
